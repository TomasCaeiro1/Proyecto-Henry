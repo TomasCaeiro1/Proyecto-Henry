{
 "cells": [
  {
   "cell_type": "code",
   "execution_count": 4,
   "metadata": {},
   "outputs": [
    {
     "name": "stderr",
     "output_type": "stream",
     "text": [
      "C:\\Users\\xSPIt\\AppData\\Local\\Temp\\ipykernel_24336\\4155271723.py:5: DtypeWarning: Columns (10) have mixed types. Specify dtype option on import or set low_memory=False.\n",
      "  df = pd.read_csv('movies_dataset.csv')\n"
     ]
    }
   ],
   "source": [
    "import pandas as pd\n",
    "import json\n",
    "\n",
    "# Cargar el archivo CSV\n",
    "df = pd.read_csv('movies_dataset.csv')\n",
    "\n",
    "# Función para cargar JSON de forma segura\n",
    "def safe_json_load(x):\n",
    "    try:\n",
    "        return json.loads(x.replace(\"'\", '\"')) if pd.notnull(x) else {}\n",
    "    except json.JSONDecodeError:\n",
    "        return {}\n",
    "\n",
    "# Desanidar 'belongs_to_collection'\n",
    "if 'belongs_to_collection' in df.columns:\n",
    "    df['belongs_to_collection'] = df['belongs_to_collection'].apply(safe_json_load)\n",
    "\n",
    "# Desanidar 'production_companies'\n",
    "def safe_json_list_load(x):\n",
    "    try:\n",
    "        return json.loads(x.replace(\"'\", '\"')) if pd.notnull(x) else []\n",
    "    except json.JSONDecodeError:\n",
    "        return []\n",
    "\n",
    "if 'production_companies' in df.columns:\n",
    "    df['production_companies'] = df['production_companies'].apply(safe_json_list_load)\n",
    "\n",
    "# Desanidar 'belongs_to_collection' (diccionario)\n",
    "collection_df = pd.json_normalize(df['belongs_to_collection'])\n",
    "\n",
    "# Desanidar 'production_companies' (lista de diccionarios)\n",
    "production_companies_df = pd.json_normalize(df['production_companies'].explode())\n",
    "\n",
    "# Unir nuevamente las columnas desanidadas al DataFrame original\n",
    "df = df.drop(columns=['belongs_to_collection', 'production_companies'])\n",
    "df = pd.concat([df, collection_df, production_companies_df], axis=1)\n",
    "\n",
    "# Guardar el nuevo CSV con los datos desanidados\n",
    "df.to_csv('movies_dataset_modificado.csv', index=False)"
   ]
  },
  {
   "cell_type": "code",
   "execution_count": 5,
   "metadata": {},
   "outputs": [
    {
     "name": "stderr",
     "output_type": "stream",
     "text": [
      "C:\\Users\\xSPIt\\AppData\\Local\\Temp\\ipykernel_24336\\4057694785.py:2: DtypeWarning: Columns (10) have mixed types. Specify dtype option on import or set low_memory=False.\n",
      "  df = pd.read_csv('movies_dataset.csv')\n"
     ]
    }
   ],
   "source": [
    "\n",
    "df = pd.read_csv('movies_dataset.csv')\n",
    "\n",
    "# Rellenar valores nulos de 'revenue' y 'budget' con 0\n",
    "df['revenue'] = df['revenue'].fillna(0)\n",
    "df['budget'] = df['budget'].fillna(0)\n",
    "\n",
    "# Sobrescribir el archivo existente con los cambios\n",
    "df.to_csv('movies_dataset_modificado.csv', index=False)"
   ]
  },
  {
   "cell_type": "code",
   "execution_count": 6,
   "metadata": {},
   "outputs": [
    {
     "name": "stderr",
     "output_type": "stream",
     "text": [
      "C:\\Users\\xSPIt\\AppData\\Local\\Temp\\ipykernel_24336\\3025175871.py:2: DtypeWarning: Columns (10) have mixed types. Specify dtype option on import or set low_memory=False.\n",
      "  df = pd.read_csv('movies_dataset.csv')\n"
     ]
    }
   ],
   "source": [
    "df = pd.read_csv('movies_dataset.csv')\n",
    "\n",
    "# Eliminar filas donde 'release_date' es nulo\n",
    "df = df.dropna(subset=['release_date'])\n",
    "\n",
    "# Sobrescribir el archivo existente con los cambios\n",
    "df.to_csv('movies_dataset_modificado.csv', index=False)"
   ]
  },
  {
   "cell_type": "code",
   "execution_count": 7,
   "metadata": {},
   "outputs": [
    {
     "name": "stderr",
     "output_type": "stream",
     "text": [
      "C:\\Users\\xSPIt\\AppData\\Local\\Temp\\ipykernel_24336\\402261245.py:2: DtypeWarning: Columns (10) have mixed types. Specify dtype option on import or set low_memory=False.\n",
      "  df = pd.read_csv('movies_dataset.csv')\n"
     ]
    }
   ],
   "source": [
    "df = pd.read_csv('movies_dataset.csv')\n",
    "\n",
    "# Eliminar filas donde 'release_date' es nulo\n",
    "df = df.dropna(subset=['release_date'])\n",
    "\n",
    "# Convertir 'release_date' al formato AAAA-mm-dd\n",
    "df['release_date'] = pd.to_datetime(df['release_date'], errors='coerce').dt.strftime('%Y-%m-%d')\n",
    "\n",
    "# Eliminar nuevamente las fechas no convertibles\n",
    "df = df.dropna(subset=['release_date'])\n",
    "\n",
    "# Crear la columna 'release_year' extrayendo el año de 'release_date'\n",
    "df['release_year'] = pd.to_datetime(df['release_date']).dt.year\n",
    "\n",
    "# Sobrescribir el archivo existente con los cambios\n",
    "df.to_csv('movies_dataset_modificado.csv', index=False)"
   ]
  },
  {
   "cell_type": "code",
   "execution_count": 10,
   "metadata": {},
   "outputs": [
    {
     "name": "stderr",
     "output_type": "stream",
     "text": [
      "C:\\Users\\xSPIt\\AppData\\Local\\Temp\\ipykernel_24336\\3879925084.py:2: DtypeWarning: Columns (10) have mixed types. Specify dtype option on import or set low_memory=False.\n",
      "  df = pd.read_csv('movies_dataset.csv')\n"
     ]
    }
   ],
   "source": [
    "df = pd.read_csv('movies_dataset.csv')\n",
    "\n",
    "# Convertir las columnas 'revenue' y 'budget' a tipo numérico, forzando errores a NaN\n",
    "df['revenue'] = pd.to_numeric(df['revenue'], errors='coerce')\n",
    "df['budget'] = pd.to_numeric(df['budget'], errors='coerce')\n",
    "\n",
    "# Rellenar valores faltantes en la columna 'budget' con 0\n",
    "df['budget'] = df['budget'].fillna(0)\n",
    "\n",
    "# Crear la columna 'return' (retorno de inversión) calculando revenue / budget\n",
    "df['return'] = df.apply(lambda x: x['revenue'] / x['budget'] if x['budget'] > 0 else 0, axis=1)\n",
    "\n",
    "# Sobrescribir el archivo existente con los cambios\n",
    "df.to_csv('movies_dataset_modificado.csv', index=False)"
   ]
  },
  {
   "cell_type": "code",
   "execution_count": 11,
   "metadata": {},
   "outputs": [
    {
     "name": "stderr",
     "output_type": "stream",
     "text": [
      "C:\\Users\\xSPIt\\AppData\\Local\\Temp\\ipykernel_24336\\2365395105.py:2: DtypeWarning: Columns (10) have mixed types. Specify dtype option on import or set low_memory=False.\n",
      "  df = pd.read_csv('movies_dataset.csv')\n"
     ]
    }
   ],
   "source": [
    "\n",
    "df = pd.read_csv('movies_dataset.csv')\n",
    "\n",
    "# Eliminar las columnas no necesarias\n",
    "columns_to_remove = ['video', 'imdb_id', 'adult', 'original_title', 'poster_path', 'homepage']\n",
    "df = df.drop(columns=columns_to_remove, errors='ignore')\n",
    "\n",
    "df.to_csv('movies_dataset_modificado.csv', index=False)"
   ]
  },
  {
   "cell_type": "code",
   "execution_count": 3,
   "metadata": {},
   "outputs": [
    {
     "name": "stderr",
     "output_type": "stream",
     "text": [
      "C:\\Users\\xSPIt\\AppData\\Local\\Temp\\ipykernel_16752\\1993489713.py:3: DtypeWarning: Columns (6) have mixed types. Specify dtype option on import or set low_memory=False.\n",
      "  df = pd.read_csv('movies_dataset_modificado.csv')\n"
     ]
    }
   ],
   "source": [
    "import pandas as pd\n",
    "# Cargar el dataset\n",
    "df = pd.read_csv('movies_dataset_modificado.csv')\n",
    "\n",
    "# Asegurarnos de que no haya títulos nulos y que el voto promedio no sea nulo\n",
    "df = df[df['title'].notna() & df['vote_average'].notna()]\n",
    "\n",
    "# Filtrar películas que tengan al menos 1000 votos\n",
    "df = df[df['vote_count'] >= 1000]\n",
    "\n",
    "# Ordenar las películas por calificación promedio (de mayor a menor)\n",
    "df = df.sort_values(by='vote_average', ascending=False)\n",
    "\n",
    "# Reasignar el dataframe a las 10,000 películas mejor valoradas\n",
    "df = df.head(10000)"
   ]
  },
  {
   "cell_type": "code",
   "execution_count": 4,
   "metadata": {},
   "outputs": [
    {
     "name": "stderr",
     "output_type": "stream",
     "text": [
      "C:\\Users\\xSPIt\\AppData\\Local\\Temp\\ipykernel_16752\\2516028036.py:2: DtypeWarning: Columns (6) have mixed types. Specify dtype option on import or set low_memory=False.\n",
      "  df = pd.read_csv('movies_dataset_modificado.csv')\n"
     ]
    }
   ],
   "source": [
    "\n",
    "# Cargar el dataset original\n",
    "df = pd.read_csv('movies_dataset_modificado.csv')\n",
    "\n",
    "# Guardar una copia del dataset\n",
    "df.to_csv('movies_dataset_copia.csv', index=False)"
   ]
  },
  {
   "cell_type": "code",
   "execution_count": 5,
   "metadata": {},
   "outputs": [
    {
     "name": "stderr",
     "output_type": "stream",
     "text": [
      "C:\\Users\\xSPIt\\AppData\\Local\\Temp\\ipykernel_16752\\2994349046.py:2: DtypeWarning: Columns (6) have mixed types. Specify dtype option on import or set low_memory=False.\n",
      "  df = pd.read_csv('movies_dataset_copia.csv')\n"
     ]
    }
   ],
   "source": [
    "# Cargar el dataset\n",
    "df = pd.read_csv('movies_dataset_modificado.csv')\n",
    "\n",
    "# Asegurarnos de que las columnas 'vote_average' y 'vote_count' no tengan valores nulos\n",
    "df = df[df['vote_average'].notna() & df['vote_count'].notna()]\n",
    "\n",
    "# Convertir las columnas 'vote_average' y 'vote_count' a valores numéricos en caso de que no lo sean\n",
    "df['vote_average'] = pd.to_numeric(df['vote_average'], errors='coerce')\n",
    "df['vote_count'] = pd.to_numeric(df['vote_count'], errors='coerce')\n",
    "\n",
    "# Filtrar películas que tengan al menos 1000 votos (opcional, puedes ajustar el umbral si es necesario)\n",
    "df = df[df['vote_count'] >= 1000]\n",
    "\n",
    "# Ordenar las películas por calificación promedio (de mayor a menor)\n",
    "df = df.sort_values(by='vote_average', ascending=False)\n",
    "\n",
    "# Seleccionar las 10,000 películas con la mejor valoración\n",
    "df = df.head(10000)\n",
    "\n",
    "# Sobrescribir el dataset original\n",
    "df.to_csv('movies_dataset_copia.csv', index=False)\n"
   ]
  },
  {
   "cell_type": "code",
   "execution_count": 2,
   "metadata": {},
   "outputs": [
    {
     "ename": "",
     "evalue": "",
     "output_type": "error",
     "traceback": [
      "\u001b[1;31mEl kernel se bloqueó al ejecutar código en la celda actual o en una celda anterior. \n",
      "\u001b[1;31mRevise el código de las celdas para identificar una posible causa del error. \n",
      "\u001b[1;31mHaga clic <a href='https://aka.ms/vscodeJupyterKernelCrash'>aquí</a> para obtener más información. \n",
      "\u001b[1;31mVea Jupyter <a href='command:jupyter.viewOutput'>log</a> para obtener más detalles."
     ]
    }
   ],
   "source": [
    "import pandas as pd\n",
    "\n",
    "# Cargar el archivo CSV\n",
    "input_csv = 'C:/Users/xSPIt/OneDrive/Escritorio/fastapi01/fastapi-env/credits.csv'\n",
    "df = pd.read_csv(input_csv)\n",
    "\n",
    "# Eliminar la mitad de los datos\n",
    "half_length = len(df) // 2\n",
    "df_half = df.iloc[:half_length]\n",
    "\n",
    "# Sobrescribir el archivo original con la mitad de los datos\n",
    "df_half.to_csv(input_csv, index=False)\n"
   ]
  }
 ],
 "metadata": {
  "kernelspec": {
   "display_name": "Python 3",
   "language": "python",
   "name": "python3"
  },
  "language_info": {
   "codemirror_mode": {
    "name": "ipython",
    "version": 3
   },
   "file_extension": ".py",
   "mimetype": "text/x-python",
   "name": "python",
   "nbconvert_exporter": "python",
   "pygments_lexer": "ipython3",
   "version": "3.11.9"
  }
 },
 "nbformat": 4,
 "nbformat_minor": 2
}
